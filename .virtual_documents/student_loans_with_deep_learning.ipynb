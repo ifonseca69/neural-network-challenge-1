


# Imports
import pandas as pd
import tensorflow as tf
from tensorflow.keras.layers import Dense
from tensorflow.keras.models import Sequential
from sklearn.model_selection import train_test_split
from sklearn.preprocessing import StandardScaler
from sklearn.metrics import classification_report
from pathlib import Path








# Read the csv into a Pandas DataFrame
file_path = "https://static.bc-edx.com/ai/ail-v-1-0/m18/lms/datasets/student-loans.csv"
loans_df = pd.read_csv(file_path)

# Review the DataFrame
loans_df.head()


# Review the data types associated with the columns
loans_df.dtypes


# Check the credit_ranking value counts
loans_df["credit_ranking"].value_counts()





# Define the target set y using the credit_ranking column


# Display a sample of y



# Define features set X by selecting all columns but credit_ranking


# Review the features DataFrame






# Split the preprocessed data into a training and testing dataset
# Assign the function a random_state equal to 1






# Create a StandardScaler instance


# Fit the scaler to the features training dataset


# Fit the scaler to the features training dataset









# Define the the number of inputs (features) to the model


# Review the number of features



# Define the number of hidden nodes for the first hidden layer


# Define the number of hidden nodes for the second hidden layer


# Define the number of neurons in the output layer



# Create the Sequential model instance


# Add the first hidden layer


# Add the second hidden layer


# Add the output layer to the model specifying the number of output neurons and activation function



# Display the Sequential model summary






# Compile the Sequential model



# Fit the model using 50 epochs and the training data






# Evaluate the model loss and accuracy metrics using the evaluate method and the test data


# Display the model loss and accuracy results






# Set the model's file path


# Export your model to a keras file









# Set the model's file path


# Load the model to a new object






# Make predictions with the test data


# Display a sample of the predictions



# Save the predictions to a DataFrame and round the predictions to binary results






# Print the classification report with the y test data and predictions










